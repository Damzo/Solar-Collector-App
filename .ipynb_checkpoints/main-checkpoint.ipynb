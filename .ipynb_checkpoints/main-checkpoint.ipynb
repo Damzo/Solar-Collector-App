{
 "cells": [
  {
   "cell_type": "markdown",
   "id": "2726dc63",
   "metadata": {},
   "source": [
    "Make all imports and define the main graphical interface"
   ]
  },
  {
   "cell_type": "code",
   "execution_count": 1,
   "id": "79db6a9d",
   "metadata": {},
   "outputs": [],
   "source": [
    "%matplotlib widget\n",
    "\n",
    "from imports import * \n",
    "from Head_content import head_content\n",
    "from Left_content import left_content\n",
    "from Center_content import  center_content\n",
    "from Right_content import right_content\n",
    "from plot_geometry import plot_geometry\n",
    "from plot_incident_rays import plot_incident_rays\n",
    "from plot_reflected_rays import plot_reflected_rays\n",
    "from plot_zoom import plot_zoom\n",
    "from plot_projection import plot_projection\n",
    "\n",
    "plt.ioff()\n",
    "\n",
    "H = head_content()\n",
    "H_design = H.design()\n",
    "\n",
    "C = center_content()\n",
    "C_design = C.design()\n",
    "\n",
    "R = right_content()\n",
    "R_design = R.design()\n",
    "\n",
    "L = left_content(center_instance=C, header_instance=H)\n",
    "L_parabola = L.design_parabola()\n",
    "L_ringArray = L.design_ring_array()\n",
    "L_cylindrical = L.design_cylindrical()\n",
    "\n",
    "L._left_content__variables_parabola()\n",
    "\n",
    "app = widgets.AppLayout(header=H_design,\n",
    "                        left_sidebar=L_parabola,\n",
    "                        center=C_design,\n",
    "                        right_sidebar=R_design,\n",
    "                        footer=widgets.Button())\n",
    "def changeLayout(*arg):\n",
    "    global app\n",
    "    ipv.clear()\n",
    "    value = H.collector_type.value\n",
    "    if value == 1:\n",
    "        L._left_content__variables_parabola()\n",
    "        app.left_sidebar = L_parabola\n",
    "    if value == 2:\n",
    "        L._left_content__variables_ringarray()\n",
    "        app.left_sidebar = L_ringArray\n",
    "    if value == 3:\n",
    "        app.left_sidebar = L_cylindrical\n",
    "        \n",
    "def updateSourceGeometry(*arg):\n",
    "    global app, L_parabola, L_ringArray, L_cylindrical\n",
    "    L_parabola = L.design_parabola()\n",
    "    L_ringArray = L.design_ring_array()\n",
    "    L_cylindrical = L.design_cylindrical()\n",
    "    \n",
    "    value = H.collector_type.value\n",
    "    if value == 1:\n",
    "        app.left_sidebar = L_parabola\n",
    "    if value == 2:\n",
    "        app.left_sidebar = L_ringArray\n",
    "    if value == 3:\n",
    "        app.left_sidebar = L_cylindrical\n",
    "\n",
    "H.collector_type.observe(changeLayout, 'value')\n",
    "H.source_geometry.observe(updateSourceGeometry, 'value')\n"
   ]
  },
  {
   "cell_type": "markdown",
   "id": "b354833e",
   "metadata": {},
   "source": [
    "Define the process for plotting a collector surface"
   ]
  },
  {
   "cell_type": "code",
   "execution_count": 2,
   "id": "19e07313",
   "metadata": {},
   "outputs": [],
   "source": [
    "phi_tab = []\n",
    "z_tab=[], \n",
    "rx=0.0\n",
    "ry=0.0\n",
    "inters=spy.Function\n",
    "inters_lambda=any\n",
    "yl_min=0.0\n",
    "yl_max=0.0\n",
    "zl_min=0.0\n",
    "zl_max=0.0\n",
    "parabola_rings=[]\n",
    "h_2D = []\n",
    "focs = []\n",
    "# Update the list of varables for calculations\n",
    "variables = L.variables\n",
    "# Optical calculation classes instanciations\n",
    "parabolic_calc = pmc((variables['parabola_focus_x'], variables['parabola_focus_y'], variables['parabola_height']), \n",
    "                                   variables['pt_source_coordinate'], variables['parabola_rot_angle'])\n",
    "ring_calc = opra(Rin_0=variables['ringArray_internal_ray'], A_target=variables['ringArray_area'], \n",
    "                              N=variables['ringArray_N_rings'], w=variables['ringArray_material_width'], \n",
    "                              h_max=variables['ringArray_h_max'])\n",
    "cyl_calc = cylc((variables['cylinder_length'], variables['cylinder_thikness'], variables['cylinder_height']), \n",
    "                (0, 1, 0 ), variables['pt_source_coordinate'], variables['parabola_rot_angle'])\n",
    "# Geometry ploter instance\n",
    "geo_plot = plot_geometry(fx=variables['parabola_focus_x'], fy=variables['parabola_focus_y'], h=variables['parabola_height'],\n",
    "                         pt_source_pos=variables['pt_source_coordinate'], khoi=variables['parabola_rot_angle'], Rin_0=variables['ringArray_internal_ray'],\n",
    "                         A_target=variables['ringArray_area'], N=variables['ringArray_N_rings'], w=variables['ringArray_material_width'], \n",
    "                         L=variables['cylinder_length'], th = variables['cylinder_thikness'], h_cyl = variables['cylinder_height'],\n",
    "                         h_max=variables['ringArray_h_max'], n_theta=variables['n_theta'], n_phi=variables['n_phi'],\n",
    "                         center_instance=C, left_instance=L, parabolic=parabolic_calc, ring=ring_calc, cylinder=cyl_calc)\n",
    "\n",
    "def plot_collector_geometry(*arg):\n",
    "    \n",
    "    global phi_tab, z_tab, rx, ry, inters, inters_lambda, yl_min, yl_max, zl_min, zl_max, parabola_rings, h_2D, focs\n",
    "    C.main_scene.scatters.clear()\n",
    "    value = H.collector_type.value\n",
    "    # Update the list of varables for calculations\n",
    "    variables = L.variables\n",
    "    # Optical calculation classes instanciations\n",
    "    parabolic_calc.update_init((variables['parabola_focus_x'], variables['parabola_focus_y'], variables['parabola_height']),\n",
    "                               variables['pt_source_coordinate'], variables['parabola_rot_angle'])\n",
    "    ring_calc.update_init(Rin_0=variables['ringArray_internal_ray'], A_target=variables['ringArray_area'],\n",
    "                          N=variables['ringArray_N_rings'], w=variables['ringArray_material_width'], \n",
    "                          h_max=variables['ringArray_h_max'])\n",
    "    cyl_calc.update_init(surface=(variables['cylinder_length'], variables['cylinder_thikness'], variables['cylinder_height']),\n",
    "                         sun_pos=variables['pt_source_coordinate'], khoi=variables['parabola_rot_angle'] )\n",
    "    # Geometry ploter instance init update\n",
    "    geo_plot.update_init(fx=variables['parabola_focus_x'], fy=variables['parabola_focus_y'], h=variables['parabola_height'],\n",
    "                         L=variables['cylinder_length'], th = variables['cylinder_thikness'], h_cyl = variables['cylinder_height'],\n",
    "                         pt_source_pos=variables['pt_source_coordinate'], khoi=variables['parabola_rot_angle'], Rin_0=variables['ringArray_internal_ray'],\n",
    "                         A_target=variables['ringArray_area'], N=variables['ringArray_N_rings'], w=variables['ringArray_material_width'], \n",
    "                         h_max=variables['ringArray_h_max'], n_theta=variables['n_theta'], n_phi=variables['n_phi'],\n",
    "                         center_instance=C, left_instance=L, parabolic=parabolic_calc, ring=ring_calc, cylinder=cyl_calc)\n",
    "    if value == 1:\n",
    "        phi_tab, z_tab, rx, ry, inters, inters_lambda, yl_min, yl_max, zl_min, zl_max = \\\n",
    "            geo_plot.plot_parabola()\n",
    "    if value == 2:\n",
    "        parabola_rings, h_2D, focs = geo_plot.plot_ringArray()\n",
    "    if value == 3:\n",
    "        phi_tab, z_tab, rx, ry, inters, inters_lambda, yl_min, yl_max, zl_min, zl_max = \\\n",
    "            geo_plot.plot_cylinder()\n",
    "    else:\n",
    "        L.result_label.value = 'error in plot_collector_geometry function'\n",
    "\n",
    "L.plot_surf_bt.on_click(plot_collector_geometry)\n",
    "    "
   ]
  },
  {
   "cell_type": "markdown",
   "id": "d0b23737",
   "metadata": {},
   "source": [
    "Define the process for plotting incident rays to the collector"
   ]
  },
  {
   "cell_type": "code",
   "execution_count": 3,
   "id": "d3df85f1",
   "metadata": {},
   "outputs": [],
   "source": [
    "# Update the list of varables for calculations\n",
    "variables = L.variables\n",
    "\n",
    "# Incident rays plotter instance\n",
    "inc_ray_plot = plot_incident_rays(n_phi=variables['n_phi'], n_theta=variables['n_theta'], inc_rayClr_value=variables['inc_rayClr_value'], h_cyl=variables['cylinder_height'],\n",
    "                                  N=variables['ringArray_N_rings'], h=variables['parabola_height'], pt_source_pos=variables['pt_source_coordinate'],\n",
    "                                  h_2D=h_2D, focs=focs, inters=inters, rx=rx, yl_min=yl_min,yl_max=yl_max, parabola_rings=parabola_rings,\n",
    "                                  center_instance=C, left_instance=L, parabolic=parabolic_calc, ring=ring_calc, cylinder=cyl_calc)\n",
    "\n",
    "def plot_incident_rays(*arg):\n",
    "    # Update the list of varables for calculations\n",
    "    variables = L.variables\n",
    "    value = H.collector_type.value\n",
    "    \n",
    "    # incident rays plotter init update\n",
    "    inc_ray_plot.update_init(n_phi=variables['n_phi'], n_theta=variables['n_theta'], inc_rayClr_value=variables['inc_rayClr_value'], h_cyl=variables['cylinder_height'],\n",
    "                             N=variables['ringArray_N_rings'], h=variables['parabola_height'], pt_source_pos=variables['pt_source_coordinate'],\n",
    "                             h_2D=h_2D, focs=focs, inters=inters, rx=rx, yl_min=yl_min,yl_max=yl_max, parabola_rings=parabola_rings,\n",
    "                             center_instance=C, left_instance=L, parabolic=parabolic_calc, ring=ring_calc, cylinder=cyl_calc)\n",
    "    if value == 1:\n",
    "        inc_ray_plot.plot_incident_parabola()\n",
    "    if value == 2:\n",
    "        inc_ray_plot.plot_incident_ringArray()\n",
    "    if value == 3:\n",
    "        inc_ray_plot.plot_incident_cylinder()\n",
    "\n",
    "L.plot_inc_bt.on_click(plot_incident_rays)"
   ]
  },
  {
   "cell_type": "markdown",
   "id": "b93393bf",
   "metadata": {},
   "source": [
    "Define the process for plotting the reflected rays from the collector surface"
   ]
  },
  {
   "cell_type": "code",
   "execution_count": 4,
   "id": "5ad0c0ac",
   "metadata": {},
   "outputs": [],
   "source": [
    "# Update the list of varables for calculations\n",
    "variables = L.variables\n",
    "\n",
    "# Reflected rays plotter instance\n",
    "refl_ray_plot = plot_reflected_rays(n_phi=variables['n_phi'], n_theta=variables['n_theta'], refl_rayClr_value=variables['refl_rayClr_value'], \n",
    "                                  N=variables['ringArray_N_rings'], h=variables['parabola_height'], pt_source_pos=variables['pt_source_coordinate'],\n",
    "                                  h_2D=h_2D, focs=focs, inters=inters, rx=rx, yl_min=yl_min,yl_max=yl_max, parabola_rings=parabola_rings,\n",
    "                                  center_instance=C, left_instance=L, parabolic=parabolic_calc)\n",
    "\n",
    "\n",
    "\n",
    "def plot_reflected_rays(*arg):\n",
    "    # Update the list of varables for calculations\n",
    "    variables = L.variables\n",
    "    value = H.collector_type.value\n",
    "    \n",
    "    # Reflected rays plotter init update\n",
    "    refl_ray_plot.update_init(n_phi=variables['n_phi'], n_theta=variables['n_theta'], refl_rayClr_value=variables['refl_rayClr_value'], \n",
    "                              N=variables['ringArray_N_rings'], h=variables['parabola_height'], pt_source_pos=variables['pt_source_coordinate'],\n",
    "                              h_2D=h_2D, focs=focs, inters=inters, rx=rx, yl_min=yl_min,yl_max=yl_max, parabola_rings=parabola_rings,\n",
    "                              center_instance=C, left_instance=L, parabolic=parabolic_calc)\n",
    "    \n",
    "    if value == 1:\n",
    "        refl_ray_plot.plot_reflected_parabola()\n",
    "    if value == 2:\n",
    "        refl_ray_plot.plot_reflected_ringArray()\n",
    "    \n",
    "L.plot_refl_bt.on_click(plot_reflected_rays)"
   ]
  },
  {
   "cell_type": "markdown",
   "id": "5f59eae1",
   "metadata": {},
   "source": [
    "Define the process for zomming on the reflected rays"
   ]
  },
  {
   "cell_type": "code",
   "execution_count": 5,
   "id": "2f466513",
   "metadata": {},
   "outputs": [],
   "source": [
    "# Update the list of varables for calculations\n",
    "variables = L.variables\n",
    "\n",
    "# Zoom plotting instance\n",
    "zoom_plot = plot_zoom(n_phi=variables['n_phi'], n_theta=variables['n_theta'], h_2D=h_2D, focs=focs, \n",
    "                      N=variables['ringArray_N_rings'], pt_source_pos=variables['pt_source_coordinate'],\n",
    "                      parabola_rings=parabola_rings, center_instance=C, right_instance=R, parabolic=parabolic_calc)\n",
    "\n",
    "def plot_zoom_rays(*arg):\n",
    "    # Update the list of varables for calculations\n",
    "    variables = L.variables\n",
    "    value = H.collector_type.value\n",
    "    \n",
    "    # Update init\n",
    "    zoom_plot.update_init(n_phi=variables['n_phi'], n_theta=variables['n_theta'], h_2D=h_2D, focs=focs, \n",
    "                          N=variables['ringArray_N_rings'], pt_source_pos=variables['pt_source_coordinate'],\n",
    "                          parabola_rings=parabola_rings, center_instance=C, right_instance=R, parabolic=parabolic_calc)\n",
    "    \n",
    "    if value==1:\n",
    "        zoom_plot.plot_zoom_parabola()\n",
    "    if value==2:\n",
    "        zoom_plot.plot_zoom_ringArray()\n",
    "        \n",
    "C.plot_zoom_bt.on_click(plot_zoom_rays)\n",
    "    "
   ]
  },
  {
   "cell_type": "markdown",
   "id": "dcc66b32",
   "metadata": {},
   "source": [
    "Define the process for making the 2D projction of the reflected rays"
   ]
  },
  {
   "cell_type": "code",
   "execution_count": 6,
   "id": "35967fe2",
   "metadata": {},
   "outputs": [],
   "source": [
    "# Update the list of varables for calculations\n",
    "variables = L.variables\n",
    "\n",
    "# projection plotting instance\n",
    "proj_plot = plot_projection(n_phi=variables['n_phi'], n_theta=variables['n_theta'], h_2D=h_2D, focs=focs, inters=inters,\n",
    "                         N=variables['ringArray_N_rings'], pt_source_pos=variables['pt_source_coordinate'],\n",
    "                         parabola_rings=parabola_rings, center_instance=C, right_instance=R, parabolic=parabolic_calc)\n",
    "\n",
    "def plot_proj(*arg):\n",
    "    # Update the list of varables for calculations\n",
    "    variables = L.variables\n",
    "    value = H.collector_type.value\n",
    "    \n",
    "    # Update init\n",
    "    proj_plot.update_init(n_phi=variables['n_phi'], n_theta=variables['n_theta'], h_2D=h_2D, focs=focs, inters=inters,\n",
    "                          N=variables['ringArray_N_rings'], pt_source_pos=variables['pt_source_coordinate'],\n",
    "                          parabola_rings=parabola_rings, center_instance=C, right_instance=R, parabolic=parabolic_calc)\n",
    "    \n",
    "    if value==1:\n",
    "        proj_plot.plot_proj_parabola()\n",
    "    if value==2:\n",
    "        proj_plot.plot_proj_ringArray()\n",
    "        \n",
    "C.plot_xy_bt.on_click(plot_proj)\n",
    "    "
   ]
  },
  {
   "cell_type": "markdown",
   "id": "52b3eb70",
   "metadata": {},
   "source": [
    "Main graphical output"
   ]
  },
  {
   "cell_type": "code",
   "execution_count": 7,
   "id": "2e527c25",
   "metadata": {},
   "outputs": [
    {
     "data": {
      "application/vnd.jupyter.widget-view+json": {
       "model_id": "f70d7affe63042c4ae1df7bd30ba2182",
       "version_major": 2,
       "version_minor": 0
      },
      "text/plain": [
       "AppLayout(children=(VBox(children=(HTML(value=\" <h1 style='color:blue;margin-:100px'; text-align:center><u><b>…"
      ]
     },
     "metadata": {},
     "output_type": "display_data"
    }
   ],
   "source": [
    "display(app)"
   ]
  },
  {
   "cell_type": "code",
   "execution_count": 25,
   "id": "f2ba7a9f",
   "metadata": {},
   "outputs": [
    {
     "name": "stdout",
     "output_type": "stream",
     "text": [
      "Eq(1.0*sqrt(z**2), 0)\n"
     ]
    }
   ],
   "source": [
    "from IPython.display import Math, display\n",
    "x_eq, y_eq = cyl_calc.solarPointSource_ray_equation()\n",
    "surf_implicit_eq=cyl_calc.symbolic_cylinder_equation()\n",
    "inters_eq = cyl_calc.symbolic_incident_ray_intersection(x_eq, y_eq, surf_implicit_eq)\n",
    "z, theta, phi = spy.symbols('z theta phi')\n",
    "equ_eval = spy.Eq(inters_eq.subs({theta:  0.0, phi: np.pi}),0)\n",
    "\n",
    "#cyl_calc.solve_incident_intersection(inters, 0.0, 0.0)\n",
    "print(equ_eval)"
   ]
  },
  {
   "cell_type": "code",
   "execution_count": 24,
   "id": "1543caaa",
   "metadata": {},
   "outputs": [
    {
     "name": "stdout",
     "output_type": "stream",
     "text": [
      "149597870.0*sqrt((4.46837054133661e-17*z**2*cos(theta)**2 + (6.68458715354704e-9*z - 1)**2*sin(theta)**2*cos(phi)**2)/cos(theta)**2) - 1189813566.01476*sqrt((-4.46837054133661e-17*z**2 + 1.33691743070941e-8*z - 1.0)*cos(phi)**2*tan(theta)**2)\n",
      "[0.]\n"
     ]
    }
   ],
   "source": [
    "print(inters)\n",
    "z_i = cyl_calc.solve_incident_intersection(inters, 0, 0)\n"
   ]
  },
  {
   "cell_type": "code",
   "execution_count": null,
   "id": "3f74ae35",
   "metadata": {},
   "outputs": [],
   "source": [
    "x = spy.symbols('x')\n",
    "spy.sqrt(x)"
   ]
  },
  {
   "cell_type": "code",
   "execution_count": null,
   "id": "699de1d9",
   "metadata": {},
   "outputs": [],
   "source": [
    "surf_implicit_eq"
   ]
  }
 ],
 "metadata": {
  "interpreter": {
   "hash": "686889071841a2d96f5afacdcbbcc351fa448ceca54b1a0830e1814f537d6c18"
  },
  "kernelspec": {
   "display_name": "Python [conda env:jupyEnv] *",
   "language": "python",
   "name": "conda-env-jupyEnv-py"
  },
  "language_info": {
   "codemirror_mode": {
    "name": "ipython",
    "version": 3
   },
   "file_extension": ".py",
   "mimetype": "text/x-python",
   "name": "python",
   "nbconvert_exporter": "python",
   "pygments_lexer": "ipython3",
   "version": "3.7.11"
  }
 },
 "nbformat": 4,
 "nbformat_minor": 5
}
