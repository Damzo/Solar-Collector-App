{
 "cells": [
  {
   "cell_type": "code",
   "execution_count": null,
   "id": "b0f02c92-9539-4ab3-ac39-5fd7435d4fb9",
   "metadata": {},
   "outputs": [],
   "source": [
    "from ipyleaflet import Map, SearchControl, Marker, AwesomeIcon\n",
    "from ipywidgets import widgets, Layout\n",
    "\n",
    "univ_kara = (9.68803261638838, 1.1285112820273637)\n",
    "m = Map(zoom=5, center=univ_kara, layout=Layout(width='250px', height='250px'))\n",
    "\n",
    "marker = Marker(location=univ_kara, icon=AwesomeIcon(name=\"check\", marker_color='green', icon_color='darkgreen'))\n",
    "\n",
    "m.add_control(SearchControl(\n",
    "  position=\"topleft\",\n",
    "  url='https://nominatim.openstreetmap.org/search?format=json&q={s}',\n",
    "  zoom=5,\n",
    "  marker=marker\n",
    "))\n",
    "m.add_layer(marker)\n",
    "\n",
    "location = univ_kara\n",
    "def handle_move(*args, **kwargs):\n",
    "    global location\n",
    "    location = marker.location\n",
    "    \n",
    "def close_map(*args, **kwargs):\n",
    "    global m\n",
    "    m.close()\n",
    "    close_but.close()\n",
    "\n",
    "marker.on_move(handle_move)\n",
    "\n",
    "close_but = widgets.Button(icon='close', layout=Layout(width='40px', height='40px'))\n",
    "close_but.on_click(close_map)\n",
    "\n",
    "box = widgets.Box([m, close_but], layout=Layout(width='300px', height='300px'))\n",
    "\n",
    "print(marker.location)\n",
    "\n",
    "display(box)"
   ]
  },
  {
   "cell_type": "code",
   "execution_count": 58,
   "id": "c569dd0d-bbbc-437e-add4-0ca8e33e64a9",
   "metadata": {},
   "outputs": [
    {
     "name": "stdout",
     "output_type": "stream",
     "text": [
      "https://power.larc.nasa.gov/api/temporal/monthly/point?parameters=ALLSKY_SFC_SW_DWN%2CCLRSKY_SFC_SW_DWN%2CWS2M%2CQV2M%2CRH2M&community=RE&longitude=1.1285112820273637&latitude=9.68803261638838&format=JSON&start=2020&end=2020\n",
      "200\n"
     ]
    }
   ],
   "source": [
    "import requests\n",
    "import json\n",
    "\n",
    "end_point = \"https://power.larc.nasa.gov/api/temporal/monthly/point\"\n",
    "fmt = \"JSON\"\n",
    "community=\"RE\"\n",
    "param = \"ALLSKY_SFC_SW_DWN,CLRSKY_SFC_SW_DWN,WS2M,QV2M,RH2M\"\n",
    "start_year=2020\n",
    "end_year=2020\n",
    "latd = location[0]\n",
    "lgtd = location[1]\n",
    "\n",
    "load = {'parameters': param, 'community': community, 'longitude': lgtd, 'latitude': latd, 'format': fmt, 'start': start_year, 'end': end_year}\n",
    "\n",
    "r = requests.get(end_point, params=load)\n",
    "print(r.url)\n",
    "print(r.status_code)\n",
    "\n",
    "data = json.loads(r.text)"
   ]
  },
  {
   "cell_type": "code",
   "execution_count": 70,
   "id": "195785e6-726d-45b9-b015-8208629c544d",
   "metadata": {},
   "outputs": [
    {
     "data": {
      "text/plain": [
       "[1.1285112820273637, 9.68803261638838, 402.31]"
      ]
     },
     "execution_count": 70,
     "metadata": {},
     "output_type": "execute_result"
    }
   ],
   "source": [
    "type(data)\n",
    "data['geometry']['coordinates']"
   ]
  }
 ],
 "metadata": {
  "kernelspec": {
   "display_name": "Python [conda env:jupyEnv] *",
   "language": "python",
   "name": "conda-env-jupyEnv-py"
  },
  "language_info": {
   "codemirror_mode": {
    "name": "ipython",
    "version": 3
   },
   "file_extension": ".py",
   "mimetype": "text/x-python",
   "name": "python",
   "nbconvert_exporter": "python",
   "pygments_lexer": "ipython3",
   "version": "3.7.12"
  }
 },
 "nbformat": 4,
 "nbformat_minor": 5
}
