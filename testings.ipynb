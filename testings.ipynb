{
 "cells": [
  {
   "cell_type": "code",
   "execution_count": null,
   "id": "b0f02c92-9539-4ab3-ac39-5fd7435d4fb9",
   "metadata": {},
   "outputs": [
    {
     "name": "stdout",
     "output_type": "stream",
     "text": [
      "[9.68803261638838, 1.1285112820273637]\n"
     ]
    },
    {
     "data": {
      "application/vnd.jupyter.widget-view+json": {
       "model_id": "0c3139914e26440f9002f7b1c41d4592",
       "version_major": 2,
       "version_minor": 0
      },
      "text/plain": [
       "Box(children=(Map(center=[9.68803261638838, 1.1285112820273637], controls=(ZoomControl(options=['position', 'z…"
      ]
     },
     "metadata": {},
     "output_type": "display_data"
    }
   ],
   "source": [
    "from ipyleaflet import Map, SearchControl, Marker, AwesomeIcon\n",
    "from ipywidgets import widgets, Layout\n",
    "from IPython.display import display\n",
    "\n",
    "univ_kara = (9.68803261638838, 1.1285112820273637)\n",
    "m = Map(zoom=5, center=univ_kara, layout=Layout(width='250px', height='250px'))\n",
    "marker = Marker(location=univ_kara, icon=AwesomeIcon(name=\"check\", marker_color='green', icon_color='darkgreen'))\n",
    "m.add_control(SearchControl(\n",
    "  position=\"topleft\",\n",
    "  url='https://nominatim.openstreetmap.org/search?format=json&q={s}',\n",
    "  zoom=5,\n",
    "  marker=marker\n",
    "))\n",
    "m.add_layer(marker)\n",
    "\n",
    "location = univ_kara\n",
    "def handle_move(*args, **kwargs):\n",
    "    global location\n",
    "    location = marker.location\n",
    "    \n",
    "def close_map(*args, **kwargs):\n",
    "    # global m\n",
    "    box.layout = Layout(width='0px', height='0px')\n",
    "    m.close()\n",
    "    close_but.close()\n",
    "\n",
    "marker.on_move(handle_move)\n",
    "\n",
    "close_but = widgets.Button(icon='close', layout=Layout(width='40px', height='40px'))\n",
    "close_but.on_click(close_map)\n",
    "\n",
    "box = widgets.Box([m, close_but], layout=Layout(width='250px', height='250px'))\n",
    "\n",
    "print(marker.location)\n",
    "\n",
    "display(box)"
   ]
  },
  {
   "cell_type": "code",
   "execution_count": 25,
   "id": "9b90f117",
   "metadata": {},
   "outputs": [
    {
     "data": {
      "application/vnd.jupyter.widget-view+json": {
       "model_id": "4a4727a7caab4836b159d1eb6333850a",
       "version_major": 2,
       "version_minor": 0
      },
      "text/plain": [
       "DatePicker(value=None, description='Start Date')"
      ]
     },
     "metadata": {},
     "output_type": "display_data"
    }
   ],
   "source": [
    "date = widgets.DatePicker(description = 'Start Date')\n",
    "display(date)"
   ]
  },
  {
   "cell_type": "code",
   "execution_count": 29,
   "id": "e2ea4ff3",
   "metadata": {},
   "outputs": [
    {
     "name": "stdout",
     "output_type": "stream",
     "text": [
      "2022-04-23\n",
      "2022-04-23\n"
     ]
    }
   ],
   "source": [
    "print(date.value)\n",
    "a = str(date.value)\n",
    "type(a)\n",
    "print(a)"
   ]
  },
  {
   "cell_type": "code",
   "execution_count": null,
   "id": "c569dd0d-bbbc-437e-add4-0ca8e33e64a9",
   "metadata": {},
   "outputs": [],
   "source": [
    "import requests\n",
    "import json\n",
    "\n",
    "end_point = \"https://power.larc.nasa.gov/api/temporal/monthly/point\"\n",
    "fmt = \"JSON\"\n",
    "community=\"RE\"\n",
    "param = \"ALLSKY_SFC_SW_DWN,CLRSKY_SFC_SW_DWN,WS2M,QV2M,RH2M\"\n",
    "start_year=2019\n",
    "end_year=2020\n",
    "latd = location[0]\n",
    "lgtd = location[1]\n",
    "\n",
    "load = {'parameters': param, 'community': community, 'longitude': lgtd, 'latitude': latd, 'format': fmt, 'start': start_year, 'end': end_year}\n",
    "\n",
    "r = requests.get(end_point, params=load)\n",
    "print(r.url)\n",
    "print(r.status_code)\n",
    "\n",
    "data = json.loads(r.text)\n",
    "\n",
    "type(data)\n",
    "# data['geometry']['coordinates']\n"
   ]
  },
  {
   "cell_type": "code",
   "execution_count": null,
   "id": "195785e6-726d-45b9-b015-8208629c544d",
   "metadata": {},
   "outputs": [],
   "source": [
    "import numpy as np\n",
    "\n",
    "# Load parameters\n",
    "ALLSKY_SFC_SW_DWN = data['properties']['parameter']['ALLSKY_SFC_SW_DWN']\n",
    "CLRSKY_SFC_SW_DWN = data['properties']['parameter']['CLRSKY_SFC_SW_DWN']\n",
    "RH2M = data['properties']['parameter']['RH2M']\n",
    "QV2M = data['properties']['parameter']['QV2M']\n",
    "WS2M = data['properties']['parameter']['WS2M']\n",
    "units = {'ALLSKY_SFC_SW_DWN':data['parameters']['ALLSKY_SFC_SW_DWN']['units'],\n",
    "         'CLRSKY_SFC_SW_DWN':data['parameters']['CLRSKY_SFC_SW_DWN']['units'],\n",
    "         'RH2M':data['parameters']['RH2M']['units'],\n",
    "         'QV2M':data['parameters']['QV2M']['units'],\n",
    "         'WS2M':data['parameters']['WS2M']['units']\n",
    "         }\n",
    "\n",
    "ALLSKY_SFC_SW_DWN = np.array([np.array([k, v]) for k, v in ALLSKY_SFC_SW_DWN.items()])\n",
    "CLRSKY_SFC_SW_DWN = np.array([np.array([k, v]) for k, v in CLRSKY_SFC_SW_DWN.items()])\n",
    "RH2M = np.array([np.array([k, v]) for k, v in RH2M.items()])\n",
    "QV2M = np.array([np.array([k, v]) for k, v in QV2M.items()])\n",
    "WS2M = np.array([np.array([k, v]) for k, v in WS2M.items()])\n",
    "\n",
    "# slice years from months\n",
    "All_Sky_Irradiance = np.zeros((ALLSKY_SFC_SW_DWN.shape[0], ALLSKY_SFC_SW_DWN.shape[1]+1))\n",
    "Clear_Sky_Irradiance = np.zeros((CLRSKY_SFC_SW_DWN.shape[0], CLRSKY_SFC_SW_DWN.shape[1]+1))\n",
    "Relative_Humidity = np.zeros((RH2M.shape[0], RH2M.shape[1]+1))\n",
    "Specific_Humidity = np.zeros((QV2M.shape[0], QV2M.shape[1]+1))\n",
    "Wind_Speed = np.zeros((WS2M.shape[0], WS2M.shape[1]+1))\n",
    "\n",
    "All_Sky_Irradiance[:,0] = [i[0:4] for i in ALLSKY_SFC_SW_DWN[:,0]]\n",
    "All_Sky_Irradiance[:,1] = [i[4:6] for i in ALLSKY_SFC_SW_DWN[:,0]]\n",
    "All_Sky_Irradiance[:,2] = ALLSKY_SFC_SW_DWN[:,1]\n",
    "Clear_Sky_Irradiance[:,0] = [i[0:4] for i in CLRSKY_SFC_SW_DWN[:,0]]\n",
    "Clear_Sky_Irradiance[:,1] = [i[4:6] for i in CLRSKY_SFC_SW_DWN[:,0]]\n",
    "Clear_Sky_Irradiance[:,2] = CLRSKY_SFC_SW_DWN[:,1]\n",
    "Relative_Humidity[:,0] = [i[0:4] for i in RH2M[:,0]]\n",
    "Relative_Humidity[:,1] = [i[4:6] for i in RH2M[:,0]]\n",
    "Relative_Humidity[:,2] = RH2M[:,1]\n",
    "Wind_Speed[:,0] = [i[0:4] for i in WS2M[:,0]]\n",
    "Wind_Speed[:,1] = [i[4:6] for i in WS2M[:,0]]\n",
    "Wind_Speed[:,2] = WS2M[:,1]\n"
   ]
  },
  {
   "cell_type": "code",
   "execution_count": 19,
   "id": "acf240b3",
   "metadata": {},
   "outputs": [
    {
     "data": {
      "image/png": "[encoded data removed]",
      "text/plain": [
       "<Figure size 432x288 with 1 Axes>"
      ]
     },
     "metadata": {
      "needs_background": "light"
     },
     "output_type": "display_data"
    }
   ],
   "source": [
    "import matplotlib.pyplot as plt\n",
    "plt.figure()\n",
    "x = All_Sky_Irradiance[:,1]\n",
    "ticks = []\n",
    "\n",
    "for i in range(x.size):\n",
    "    a = str(int(x[i])) + '/' + str(int(All_Sky_Irradiance[i,0]))\n",
    "    ticks.append(a)\n",
    "    # print(ticks[i])\n",
    "\n",
    "y = All_Sky_Irradiance[:,2]\n",
    "plt.scatter(ticks, y)\n",
    "plt.xticks(ticks, ticks, rotation=90)\n",
    "plt.show()"
   ]
  },
  {
   "cell_type": "code",
   "execution_count": 13,
   "id": "8ee1f504",
   "metadata": {},
   "outputs": [
    {
     "data": {
      "text/plain": [
       "['1/2019',\n",
       " '2/2019',\n",
       " '3/2019',\n",
       " '4/2019',\n",
       " '5/2019',\n",
       " '6/2019',\n",
       " '7/2019',\n",
       " '8/2019',\n",
       " '9/2019',\n",
       " '10/2019',\n",
       " '11/2019',\n",
       " '12/2019',\n",
       " '13/2019',\n",
       " '1/2020',\n",
       " '2/2020',\n",
       " '3/2020',\n",
       " '4/2020',\n",
       " '5/2020',\n",
       " '6/2020',\n",
       " '7/2020',\n",
       " '8/2020',\n",
       " '9/2020',\n",
       " '10/2020',\n",
       " '11/2020',\n",
       " '12/2020',\n",
       " '13/2020']"
      ]
     },
     "execution_count": 13,
     "metadata": {},
     "output_type": "execute_result"
    }
   ],
   "source": [
    "ticks\n"
   ]
  }
 ],
 "metadata": {
  "interpreter": {
   "hash": "686889071841a2d96f5afacdcbbcc351fa448ceca54b1a0830e1814f537d6c18"
  },
  "kernelspec": {
   "display_name": "Python 3 (ipykernel)",
   "language": "python",
   "name": "python3"
  },
  "language_info": {
   "codemirror_mode": {
    "name": "ipython",
    "version": 3
   },
   "file_extension": ".py",
   "mimetype": "text/x-python",
   "name": "python",
   "nbconvert_exporter": "python",
   "pygments_lexer": "ipython3",
   "version": "3.7.12"
  }
 },
 "nbformat": 4,
 "nbformat_minor": 5
}
