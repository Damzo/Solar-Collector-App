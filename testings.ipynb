{
 "cells": [
  {
   "cell_type": "markdown",
   "id": "757cf1ab",
   "metadata": {},
   "source": [
    "\"scrip for generating requirements without the dependencies\":\n",
    "\n",
    "conda env export --from-history > environment.yml"
   ]
  },
  {
   "cell_type": "code",
   "execution_count": 3,
   "id": "b0f02c92-9539-4ab3-ac39-5fd7435d4fb9",
   "metadata": {},
   "outputs": [
    {
     "name": "stdout",
     "output_type": "stream",
     "text": [
      "[9.68803261638838, 1.1285112820273637]\n"
     ]
    },
    {
     "data": {
      "application/vnd.jupyter.widget-view+json": {
       "model_id": "68da61e82d7f40e78fbe2042330b70da",
       "version_major": 2,
       "version_minor": 0
      },
      "text/plain": [
       "Box(children=(Map(center=[9.68803261638838, 1.1285112820273637], controls=(ZoomControl(options=['position', 'z…"
      ]
     },
     "metadata": {},
     "output_type": "display_data"
    }
   ],
   "source": [
    "from ipyleaflet import Map, SearchControl, Marker, AwesomeIcon\n",
    "from ipywidgets import widgets, Layout\n",
    "from IPython.display import display\n",
    "\n",
    "univ_kara = (9.68803261638838, 1.1285112820273637)\n",
    "m = Map(zoom=5, center=univ_kara, layout=Layout(width='250px', height='250px'))\n",
    "marker = Marker(location=univ_kara, icon=AwesomeIcon(name=\"check\", marker_color='green', icon_color='darkgreen'))\n",
    "m.add_control(SearchControl(\n",
    "  position=\"topleft\",\n",
    "  url='https://nominatim.openstreetmap.org/search?format=json&q={s}',\n",
    "  zoom=5,\n",
    "  marker=marker\n",
    "))\n",
    "m.add_layer(marker)\n",
    "\n",
    "location = univ_kara\n",
    "def handle_move(*args, **kwargs):\n",
    "    global location\n",
    "    location = marker.location\n",
    "    \n",
    "def close_map(*args, **kwargs):\n",
    "    # global m\n",
    "    box.layout = Layout(width='0px', height='0px')\n",
    "    m.close()\n",
    "    close_but.close()\n",
    "\n",
    "marker.on_move(handle_move)\n",
    "\n",
    "close_but = widgets.Button(icon='close', layout=Layout(width='40px', height='40px'))\n",
    "close_but.on_click(close_map)\n",
    "\n",
    "box = widgets.Box([m, close_but], layout=Layout(width='260px', height='260px'))\n",
    "\n",
    "print(marker.location)\n",
    "\n",
    "display(box)"
   ]
  },
  {
   "cell_type": "code",
   "execution_count": 25,
   "id": "9b90f117",
   "metadata": {},
   "outputs": [
    {
     "data": {
      "application/vnd.jupyter.widget-view+json": {
       "model_id": "4a4727a7caab4836b159d1eb6333850a",
       "version_major": 2,
       "version_minor": 0
      },
      "text/plain": [
       "DatePicker(value=None, description='Start Date')"
      ]
     },
     "metadata": {},
     "output_type": "display_data"
    }
   ],
   "source": [
    "date = widgets.DatePicker(description = 'Start Date')\n",
    "display(date)"
   ]
  },
  {
   "cell_type": "code",
   "execution_count": 29,
   "id": "e2ea4ff3",
   "metadata": {},
   "outputs": [
    {
     "name": "stdout",
     "output_type": "stream",
     "text": [
      "2022-04-23\n",
      "2022-04-23\n"
     ]
    }
   ],
   "source": [
    "print(date.value)\n",
    "a = str(date.value)\n",
    "type(a)\n",
    "print(a)"
   ]
  },
  {
   "cell_type": "code",
   "execution_count": 1,
   "id": "c569dd0d-bbbc-437e-add4-0ca8e33e64a9",
   "metadata": {},
   "outputs": [
    {
     "name": "stdout",
     "output_type": "stream",
     "text": [
      "200\n"
     ]
    },
    {
     "data": {
      "text/plain": [
       "dict"
      ]
     },
     "execution_count": 1,
     "metadata": {},
     "output_type": "execute_result"
    }
   ],
   "source": [
    "import requests\n",
    "import json\n",
    "\n",
    "end_point = \"https://power.larc.nasa.gov/api/temporal/monthly/point\"\n",
    "fmt = \"JSON\"\n",
    "community=\"RE\"\n",
    "param = \"ALLSKY_SFC_SW_DWN,CLRSKY_SFC_SW_DWN,WS2M,QV2M,RH2M,T2M\"\n",
    "start_year=2019\n",
    "end_year=2020\n",
    "latd = 9 #location[0]\n",
    "lgtd = 1 #location[1]\n",
    "\n",
    "load = {'parameters': param, 'community': community, 'longitude': lgtd, 'latitude': latd, 'format': fmt, 'start': start_year, 'end': end_year}\n",
    "\n",
    "r = requests.get(end_point, params=load)\n",
    "# print(r.url)\n",
    "print(r.status_code)\n",
    "\n",
    "data = json.loads(r.text)\n",
    "\n",
    "type(data)\n",
    "# data['geometry']['coordinates']\n"
   ]
  },
  {
   "cell_type": "code",
   "execution_count": 3,
   "id": "195785e6-726d-45b9-b015-8208629c544d",
   "metadata": {},
   "outputs": [],
   "source": [
    "import numpy as np\n",
    "\n",
    "# Load parameters\n",
    "ALLSKY_SFC_SW_DWN = data['properties']['parameter']['ALLSKY_SFC_SW_DWN']\n",
    "CLRSKY_SFC_SW_DWN = data['properties']['parameter']['CLRSKY_SFC_SW_DWN']\n",
    "RH2M = data['properties']['parameter']['RH2M']\n",
    "QV2M = data['properties']['parameter']['QV2M']\n",
    "WS2M = data['properties']['parameter']['WS2M']\n",
    "T2M = data['properties']['parameter']['T2M']\n",
    "units = {'ALLSKY_SFC_SW_DWN':data['parameters']['ALLSKY_SFC_SW_DWN']['units'],\n",
    "         'CLRSKY_SFC_SW_DWN':data['parameters']['CLRSKY_SFC_SW_DWN']['units'],\n",
    "         'RH2M':data['parameters']['RH2M']['units'],\n",
    "         'QV2M':data['parameters']['QV2M']['units'],\n",
    "         'WS2M':data['parameters']['WS2M']['units'],\n",
    "         'T2M':data['parameters']['T2M']['units']\n",
    "         }\n",
    "\n",
    "ALLSKY_SFC_SW_DWN = np.array([np.array([k, v]) for k, v in ALLSKY_SFC_SW_DWN.items()])\n",
    "CLRSKY_SFC_SW_DWN = np.array([np.array([k, v]) for k, v in CLRSKY_SFC_SW_DWN.items()])\n",
    "RH2M = np.array([np.array([k, v]) for k, v in RH2M.items()])\n",
    "QV2M = np.array([np.array([k, v]) for k, v in QV2M.items()])\n",
    "WS2M = np.array([np.array([k, v]) for k, v in WS2M.items()])\n",
    "T2M = np.array([np.array([k, v]) for k, v in T2M.items()])\n",
    "\n",
    "# slice years from months\n",
    "All_Sky_Irradiance = np.zeros((ALLSKY_SFC_SW_DWN.shape[0], ALLSKY_SFC_SW_DWN.shape[1]+1))\n",
    "Clear_Sky_Irradiance = np.zeros((CLRSKY_SFC_SW_DWN.shape[0], CLRSKY_SFC_SW_DWN.shape[1]+1))\n",
    "Relative_Humidity = np.zeros((RH2M.shape[0], RH2M.shape[1]+1))\n",
    "Specific_Humidity = np.zeros((QV2M.shape[0], QV2M.shape[1]+1))\n",
    "Wind_Speed = np.zeros((WS2M.shape[0], WS2M.shape[1]+1))\n",
    "Temperature = np.zeros((T2M.shape[0], T2M.shape[1]+1))\n",
    "\n",
    "All_Sky_Irradiance[:,0] = [i[0:4] for i in ALLSKY_SFC_SW_DWN[:,0]]\n",
    "All_Sky_Irradiance[:,1] = [i[4:6] for i in ALLSKY_SFC_SW_DWN[:,0]]\n",
    "All_Sky_Irradiance[:,2] = ALLSKY_SFC_SW_DWN[:,1]\n",
    "Clear_Sky_Irradiance[:,0] = [i[0:4] for i in CLRSKY_SFC_SW_DWN[:,0]]\n",
    "Clear_Sky_Irradiance[:,1] = [i[4:6] for i in CLRSKY_SFC_SW_DWN[:,0]]\n",
    "Clear_Sky_Irradiance[:,2] = CLRSKY_SFC_SW_DWN[:,1]\n",
    "Relative_Humidity[:,0] = [i[0:4] for i in RH2M[:,0]]\n",
    "Relative_Humidity[:,1] = [i[4:6] for i in RH2M[:,0]]\n",
    "Relative_Humidity[:,2] = RH2M[:,1]\n",
    "Specific_Humidity[:,0] = [i[0:4] for i in QV2M[:,0]]\n",
    "Specific_Humidity[:,1] = [i[4:6] for i in QV2M[:,0]]\n",
    "Specific_Humidity[:,2] = QV2M[:,1]\n",
    "Wind_Speed[:,0] = [i[0:4] for i in WS2M[:,0]]\n",
    "Wind_Speed[:,1] = [i[4:6] for i in WS2M[:,0]]\n",
    "Wind_Speed[:,2] = WS2M[:,1]\n",
    "Temperature[:,0] = [i[0:4] for i in T2M[:,0]]\n",
    "Temperature[:,1] = [i[4:6] for i in T2M[:,0]]\n",
    "Temperature[:,2] = T2M[:,1]\n"
   ]
  },
  {
   "cell_type": "code",
   "execution_count": 4,
   "id": "acf240b3",
   "metadata": {},
   "outputs": [
    {
     "data": {
      "image/png": "[encoded data removed]",
      "text/plain": [
       "<Figure size 432x288 with 1 Axes>"
      ]
     },
     "metadata": {
      "needs_background": "light"
     },
     "output_type": "display_data"
    }
   ],
   "source": [
    "import matplotlib.pyplot as plt\n",
    "plt.figure()\n",
    "x = Temperature[:,1]\n",
    "ticks = []\n",
    "\n",
    "for i in range(x.size):\n",
    "    a = str(int(x[i])) + '/' + str(int(Temperature_2m[i,0]))\n",
    "    ticks.append(a)\n",
    "    # print(ticks[i])\n",
    "\n",
    "y = Temperature[:,2]\n",
    "plt.scatter(ticks, y)\n",
    "plt.xticks(ticks, ticks, rotation=90)\n",
    "plt.show()"
   ]
  },
  {
   "cell_type": "code",
   "execution_count": 29,
   "id": "8ee1f504",
   "metadata": {},
   "outputs": [
    {
     "data": {
      "text/plain": [
       "(-0.9604595599450463, 1.3693122557194881)"
      ]
     },
     "execution_count": 29,
     "metadata": {},
     "output_type": "execute_result"
    },
    {
     "data": {
      "image/png": "[encoded data removed]",
      "text/plain": [
       "<Figure size 432x288 with 1 Axes>"
      ]
     },
     "metadata": {
      "needs_background": "light"
     },
     "output_type": "display_data"
    }
   ],
   "source": [
    "from scipy import stats\n",
    "import numpy as np\n",
    "import matplotlib.pyplot as plt\n",
    "\n",
    "def measure(n):\n",
    "    \"Measurement model, return two coupled measurements.\"\n",
    "    m1 = np.random.normal(size=n)\n",
    "    m2 = np.random.normal(scale=0.5, size=n)\n",
    "    return m1, m2\n",
    "\n",
    "m1, m2 = measure(100)\n",
    "xmin = m1.min()\n",
    "xmax = m1.max()\n",
    "ymin = m2.min()\n",
    "ymax = m2.max()\n",
    "\n",
    "X, Y = np.mgrid[xmin:xmax:100j, ymin:ymax:100j]\n",
    "positions = np.vstack([X.ravel(), Y.ravel()])\n",
    "values = np.vstack([m1, m2])\n",
    "kernel = stats.gaussian_kde(values)\n",
    "Z = np.reshape(kernel(positions).T, X.shape)\n",
    "\n",
    "fig, ax = plt.subplots()\n",
    "ax.imshow(np.rot90(Z), cmap=plt.cm.gist_earth_r,\n",
    "          extent=[xmin, xmax, ymin, ymax])\n",
    "\n",
    "ax.plot(m1, m2, 'k.', markersize=2)\n",
    "ax.set_xlim([xmin, xmax])\n",
    "ax.set_ylim([ymin, ymax])\n",
    "# plt.show()"
   ]
  },
  {
   "cell_type": "code",
   "execution_count": 35,
   "id": "102f48a8-cb3c-40f8-895c-c4e006c34c43",
   "metadata": {},
   "outputs": [],
   "source": [
    "# values.shape\n",
    "area = Z[Z>=np.amax(Z)/2]"
   ]
  },
  {
   "cell_type": "code",
   "execution_count": 39,
   "id": "85bcf9c9",
   "metadata": {},
   "outputs": [
    {
     "data": {
      "text/plain": [
       "1871"
      ]
     },
     "execution_count": 39,
     "metadata": {},
     "output_type": "execute_result"
    }
   ],
   "source": [
    "area.size"
   ]
  }
 ],
 "metadata": {
  "kernelspec": {
   "display_name": "Python 3.7.12",
   "language": "python",
   "name": "python3"
  },
  "language_info": {
   "codemirror_mode": {
    "name": "ipython",
    "version": 3
   },
   "file_extension": ".py",
   "mimetype": "text/x-python",
   "name": "python",
   "nbconvert_exporter": "python",
   "pygments_lexer": "ipython3",
   "version": "3.7.12"
  },
  "vscode": {
   "interpreter": {
    "hash": "602fdb7ab39f7c62c793103b8dcddbc3e49949403c9ac29952d1e0c8c0747be3"
   }
  }
 },
 "nbformat": 4,
 "nbformat_minor": 5
}
