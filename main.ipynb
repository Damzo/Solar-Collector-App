{
 "cells": [
  {
   "cell_type": "markdown",
   "id": "ebdeacac",
   "metadata": {},
   "source": [
    "Make all imports and define the main graphical interface"
   ]
  },
  {
   "cell_type": "code",
   "execution_count": 1,
   "id": "4ec73a05",
   "metadata": {},
   "outputs": [],
   "source": [
    "%matplotlib widget\n",
    "\n",
    "from imports import * \n",
    "from Head_content import head_content\n",
    "from Left_content import left_content\n",
    "from Center_content import  center_content\n",
    "from Right_content import right_content\n",
    "from plot_geometry import plot_geometry\n",
    "from plot_incident_rays import plot_incident_rays\n",
    "from plot_reflected_rays import plot_reflected_rays\n",
    "from plot_zoom import plot_zoom\n",
    "from plot_projection import plot_projection\n",
    "\n",
    "plt.ioff()\n",
    "\n",
    "H = head_content()\n",
    "H_design = H.design()\n",
    "\n",
    "C = center_content()\n",
    "C_design = C.design()\n",
    "\n",
    "R = right_content()\n",
    "R_design = R.design()\n",
    "\n",
    "L = left_content(center_instance=C, header_instance=H)\n",
    "L_parabola = L.design_parabola()\n",
    "L_ringArray = L.design_ring_array()\n",
    "L_cylindrical = L.design_cylindrical()\n",
    "\n",
    "L._left_content__variables_parabola()\n",
    "\n",
    "app = widgets.AppLayout(header=H_design,\n",
    "                        left_sidebar=L_parabola,\n",
    "                        center=C_design,\n",
    "                        right_sidebar=R_design,\n",
    "                        footer=widgets.Button())\n",
    "def changeLayout(*arg):\n",
    "    global app\n",
    "    ipv.clear()\n",
    "    value = H.collector_type.value\n",
    "    if value == 1:\n",
    "        L._left_content__variables_parabola()\n",
    "        app.left_sidebar = L_parabola\n",
    "    if value == 2:\n",
    "        L._left_content__variables_ringarray()\n",
    "        app.left_sidebar = L_ringArray\n",
    "    if value == 3:\n",
    "        app.left_sidebar = L_cylindrical\n",
    "        \n",
    "def updateSourceGeometry(*arg):\n",
    "    global app, L_parabola, L_ringArray, L_cylindrical\n",
    "    L_parabola = L.design_parabola()\n",
    "    L_ringArray = L.design_ring_array()\n",
    "    L_cylindrical = L.design_cylindrical()\n",
    "    \n",
    "    value = H.collector_type.value\n",
    "    if value == 1:\n",
    "        app.left_sidebar = L_parabola\n",
    "    if value == 2:\n",
    "        app.left_sidebar = L_ringArray\n",
    "    if value == 3:\n",
    "        app.left_sidebar = L_cylindrical\n",
    "\n",
    "H.collector_type.observe(changeLayout, 'value')\n",
    "H.source_geometry.observe(updateSourceGeometry, 'value')\n"
   ]
  },
  {
   "cell_type": "markdown",
   "id": "091b2f51",
   "metadata": {},
   "source": [
    "Define the process for plotting a collector surface"
   ]
  },
  {
   "cell_type": "code",
   "execution_count": 2,
   "id": "d05cf8ea",
   "metadata": {},
   "outputs": [],
   "source": [
    "phi_tab = []\n",
    "z_tab=[], \n",
    "rx=0.0\n",
    "ry=0.0\n",
    "inters=spy.Function\n",
    "inters_lambda=any\n",
    "yl_min=0.0\n",
    "yl_max=0.0\n",
    "zl_min=0.0\n",
    "zl_max=0.0\n",
    "parabola_rings=[]\n",
    "h_2D = []\n",
    "focs = []\n",
    "# Update the list of varables for calculations\n",
    "variables = L.variables\n",
    "# Optical calculation classes instanciations\n",
    "parabolic_calc = pmc((variables['parabola_focus_x'], variables['parabola_focus_y'], variables['parabola_height']), \n",
    "                                   variables['pt_source_coordinate'], variables['parabola_rot_angle'])\n",
    "ring_calc = opra(Rin_0=variables['ringArray_internal_ray'], A_target=variables['ringArray_area'], \n",
    "                              N=variables['ringArray_N_rings'], w=variables['ringArray_material_width'], \n",
    "                              h_max=variables['ringArray_h_max'])\n",
    "cyl_calc = cylc((variables['cylinder_length'], variables['cylinder_thikness'], variables['cylinder_height']), \n",
    "                (0, 1, 0 ), variables['pt_source_coordinate'], variables['parabola_rot_angle'])\n",
    "# Geometry ploter instance\n",
    "geo_plot = plot_geometry(fx=variables['parabola_focus_x'], fy=variables['parabola_focus_y'], h=variables['parabola_height'],\n",
    "                         pt_source_pos=variables['pt_source_coordinate'], khoi=variables['parabola_rot_angle'], Rin_0=variables['ringArray_internal_ray'],\n",
    "                         A_target=variables['ringArray_area'], N=variables['ringArray_N_rings'], w=variables['ringArray_material_width'], \n",
    "                         L=variables['cylinder_length'], th = variables['cylinder_thikness'], h_cyl = variables['cylinder_height'],\n",
    "                         h_max=variables['ringArray_h_max'], n_theta=variables['n_theta'], n_phi=variables['n_phi'],\n",
    "                         center_instance=C, left_instance=L, parabolic=parabolic_calc, ring=ring_calc, cylinder=cyl_calc)\n",
    "\n",
    "def plot_collector_geometry(*arg):\n",
    "    \n",
    "    global phi_tab, z_tab, rx, ry, inters, inters_lambda, yl_min, yl_max, zl_min, zl_max, parabola_rings, h_2D, focs\n",
    "    C.main_scene.scatters.clear()\n",
    "    value = H.collector_type.value\n",
    "    # Update the list of varables for calculations\n",
    "    variables = L.variables\n",
    "    # Optical calculation classes instanciations\n",
    "    parabolic_calc.update_init((variables['parabola_focus_x'], variables['parabola_focus_y'], variables['parabola_height']),\n",
    "                               variables['pt_source_coordinate'], variables['parabola_rot_angle'])\n",
    "    ring_calc.update_init(Rin_0=variables['ringArray_internal_ray'], A_target=variables['ringArray_area'],\n",
    "                          N=variables['ringArray_N_rings'], w=variables['ringArray_material_width'], \n",
    "                          h_max=variables['ringArray_h_max'])\n",
    "    cyl_calc.update_init(surface=(variables['cylinder_length'], variables['cylinder_thikness'], variables['cylinder_height']),\n",
    "                         sun_pos=variables['pt_source_coordinate'], khoi=variables['parabola_rot_angle'] )\n",
    "    # Geometry ploter instance init update\n",
    "    geo_plot.update_init(fx=variables['parabola_focus_x'], fy=variables['parabola_focus_y'], h=variables['parabola_height'],\n",
    "                         L=variables['cylinder_length'], th = variables['cylinder_thikness'], h_cyl = variables['cylinder_height'],\n",
    "                         pt_source_pos=variables['pt_source_coordinate'], khoi=variables['parabola_rot_angle'], Rin_0=variables['ringArray_internal_ray'],\n",
    "                         A_target=variables['ringArray_area'], N=variables['ringArray_N_rings'], w=variables['ringArray_material_width'], \n",
    "                         h_max=variables['ringArray_h_max'], n_theta=variables['n_theta'], n_phi=variables['n_phi'],\n",
    "                         center_instance=C, left_instance=L, parabolic=parabolic_calc, ring=ring_calc, cylinder=cyl_calc)\n",
    "    if value == 1:\n",
    "        phi_tab, z_tab, rx, ry, inters, inters_lambda, yl_min, yl_max, zl_min, zl_max = \\\n",
    "            geo_plot.plot_parabola()\n",
    "    if value == 2:\n",
    "        parabola_rings, h_2D, focs = geo_plot.plot_ringArray()\n",
    "    if value == 3:\n",
    "        phi_tab, z_tab, rx, ry, inters, inters_lambda, yl_min, yl_max, zl_min, zl_max = \\\n",
    "            geo_plot.plot_cylinder()\n",
    "    else:\n",
    "        L.result_label.value = 'error in plot_collector_geometry function'\n",
    "\n",
    "L.plot_surf_bt.on_click(plot_collector_geometry)\n",
    "    "
   ]
  },
  {
   "cell_type": "markdown",
   "id": "f5c084fb",
   "metadata": {},
   "source": [
    "Define the process for plotting incident rays to the collector"
   ]
  },
  {
   "cell_type": "code",
   "execution_count": 3,
   "id": "42a99563",
   "metadata": {},
   "outputs": [],
   "source": [
    "# Update the list of varables for calculations\n",
    "variables = L.variables\n",
    "\n",
    "# Incident rays plotter instance\n",
    "inc_ray_plot = plot_incident_rays(n_phi=variables['n_phi'], n_theta=variables['n_theta'], inc_rayClr_value=variables['inc_rayClr_value'], h_cyl=variables['cylinder_height'],\n",
    "                                  N=variables['ringArray_N_rings'], h=variables['parabola_height'], pt_source_pos=variables['pt_source_coordinate'],\n",
    "                                  h_2D=h_2D, focs=focs, inters=inters, rx=rx, yl_min=yl_min,yl_max=yl_max, parabola_rings=parabola_rings,\n",
    "                                  center_instance=C, left_instance=L, parabolic=parabolic_calc, ring=ring_calc, cylinder=cyl_calc)\n",
    "\n",
    "def plot_incident_rays(*arg):\n",
    "    # Update the list of varables for calculations\n",
    "    variables = L.variables\n",
    "    value = H.collector_type.value\n",
    "    \n",
    "    # incident rays plotter init update\n",
    "    inc_ray_plot.update_init(n_phi=variables['n_phi'], n_theta=variables['n_theta'], inc_rayClr_value=variables['inc_rayClr_value'], h_cyl=variables['cylinder_height'],\n",
    "                             N=variables['ringArray_N_rings'], h=variables['parabola_height'], pt_source_pos=variables['pt_source_coordinate'],\n",
    "                             h_2D=h_2D, focs=focs, inters=inters, rx=rx, yl_min=yl_min,yl_max=yl_max, parabola_rings=parabola_rings,\n",
    "                             center_instance=C, left_instance=L, parabolic=parabolic_calc, ring=ring_calc, cylinder=cyl_calc)\n",
    "    if value == 1:\n",
    "        inc_ray_plot.plot_incident_parabola()\n",
    "    if value == 2:\n",
    "        inc_ray_plot.plot_incident_ringArray()\n",
    "    if value == 3:\n",
    "        inc_ray_plot.plot_incident_cylinder()\n",
    "\n",
    "L.plot_inc_bt.on_click(plot_incident_rays)"
   ]
  },
  {
   "cell_type": "markdown",
   "id": "c2e0e53d",
   "metadata": {},
   "source": [
    "Define the process for plotting the reflected rays from the collector surface"
   ]
  },
  {
   "cell_type": "code",
   "execution_count": 4,
   "id": "9c87d2f3",
   "metadata": {},
   "outputs": [],
   "source": [
    "# Update the list of varables for calculations\n",
    "variables = L.variables\n",
    "\n",
    "# Reflected rays plotter instance\n",
    "refl_ray_plot = plot_reflected_rays(n_phi=variables['n_phi'], n_theta=variables['n_theta'], refl_rayClr_value=variables['refl_rayClr_value'], \n",
    "                                  N=variables['ringArray_N_rings'], h=variables['parabola_height'], pt_source_pos=variables['pt_source_coordinate'],\n",
    "                                  h_2D=h_2D, focs=focs, inters=inters, rx=rx, yl_min=yl_min,yl_max=yl_max, parabola_rings=parabola_rings,\n",
    "                                  center_instance=C, left_instance=L, parabolic=parabolic_calc)\n",
    "\n",
    "\n",
    "\n",
    "def plot_reflected_rays(*arg):\n",
    "    # Update the list of varables for calculations\n",
    "    variables = L.variables\n",
    "    value = H.collector_type.value\n",
    "    \n",
    "    # Reflected rays plotter init update\n",
    "    refl_ray_plot.update_init(n_phi=variables['n_phi'], n_theta=variables['n_theta'], refl_rayClr_value=variables['refl_rayClr_value'], \n",
    "                              N=variables['ringArray_N_rings'], h=variables['parabola_height'], pt_source_pos=variables['pt_source_coordinate'],\n",
    "                              h_2D=h_2D, focs=focs, inters=inters, rx=rx, yl_min=yl_min,yl_max=yl_max, parabola_rings=parabola_rings,\n",
    "                              center_instance=C, left_instance=L, parabolic=parabolic_calc)\n",
    "    \n",
    "    if value == 1:\n",
    "        refl_ray_plot.plot_reflected_parabola()\n",
    "    if value == 2:\n",
    "        refl_ray_plot.plot_reflected_ringArray()\n",
    "    \n",
    "L.plot_refl_bt.on_click(plot_reflected_rays)"
   ]
  },
  {
   "cell_type": "markdown",
   "id": "045c7c92",
   "metadata": {},
   "source": [
    "Define the process for zomming on the reflected rays"
   ]
  },
  {
   "cell_type": "code",
   "execution_count": 5,
   "id": "3939087a",
   "metadata": {},
   "outputs": [],
   "source": [
    "# Update the list of varables for calculations\n",
    "variables = L.variables\n",
    "\n",
    "# Zoom plotting instance\n",
    "zoom_plot = plot_zoom(n_phi=variables['n_phi'], n_theta=variables['n_theta'], h_2D=h_2D, focs=focs, \n",
    "                      N=variables['ringArray_N_rings'], pt_source_pos=variables['pt_source_coordinate'],\n",
    "                      parabola_rings=parabola_rings, center_instance=C, right_instance=R, parabolic=parabolic_calc)\n",
    "\n",
    "def plot_zoom_rays(*arg):\n",
    "    # Update the list of varables for calculations\n",
    "    variables = L.variables\n",
    "    value = H.collector_type.value\n",
    "    \n",
    "    # Update init\n",
    "    zoom_plot.update_init(n_phi=variables['n_phi'], n_theta=variables['n_theta'], h_2D=h_2D, focs=focs, \n",
    "                          N=variables['ringArray_N_rings'], pt_source_pos=variables['pt_source_coordinate'],\n",
    "                          parabola_rings=parabola_rings, center_instance=C, right_instance=R, parabolic=parabolic_calc)\n",
    "    \n",
    "    if value==1:\n",
    "        zoom_plot.plot_zoom_parabola()\n",
    "    if value==2:\n",
    "        zoom_plot.plot_zoom_ringArray()\n",
    "        \n",
    "C.plot_zoom_bt.on_click(plot_zoom_rays)\n",
    "    "
   ]
  },
  {
   "cell_type": "markdown",
   "id": "b1e039e4",
   "metadata": {},
   "source": [
    "Define the process for making the 2D projction of the reflected rays"
   ]
  },
  {
   "cell_type": "code",
   "execution_count": 6,
   "id": "a0b6bb77",
   "metadata": {},
   "outputs": [],
   "source": [
    "# Update the list of varables for calculations\n",
    "variables = L.variables\n",
    "\n",
    "# projection plotting instance\n",
    "proj_plot = plot_projection(n_phi=variables['n_phi'], n_theta=variables['n_theta'], h_2D=h_2D, focs=focs, inters=inters,\n",
    "                         N=variables['ringArray_N_rings'], pt_source_pos=variables['pt_source_coordinate'],\n",
    "                         parabola_rings=parabola_rings, center_instance=C, right_instance=R, parabolic=parabolic_calc)\n",
    "\n",
    "def plot_proj(*arg):\n",
    "    # Update the list of varables for calculations\n",
    "    variables = L.variables\n",
    "    value = H.collector_type.value\n",
    "    \n",
    "    # Update init\n",
    "    proj_plot.update_init(n_phi=variables['n_phi'], n_theta=variables['n_theta'], h_2D=h_2D, focs=focs, inters=inters,\n",
    "                          N=variables['ringArray_N_rings'], pt_source_pos=variables['pt_source_coordinate'],\n",
    "                          parabola_rings=parabola_rings, center_instance=C, right_instance=R, parabolic=parabolic_calc)\n",
    "    \n",
    "    if value==1:\n",
    "        proj_plot.plot_proj_parabola()\n",
    "    if value==2:\n",
    "        proj_plot.plot_proj_ringArray()\n",
    "        \n",
    "C.plot_xy_bt.on_click(plot_proj)\n",
    "    "
   ]
  },
  {
   "cell_type": "markdown",
   "id": "26a222f5",
   "metadata": {},
   "source": [
    "Main graphical output"
   ]
  },
  {
   "cell_type": "code",
   "execution_count": 7,
   "id": "e144cca2",
   "metadata": {},
   "outputs": [
    {
     "data": {
      "application/vnd.jupyter.widget-view+json": {
       "model_id": "fe57066399714837ae494f52d22eaf79",
       "version_major": 2,
       "version_minor": 0
      },
      "text/plain": [
       "AppLayout(children=(VBox(children=(HTML(value=\" <h1 style='color:blue;margin-:100px'; text-align:center><u><b>…"
      ]
     },
     "metadata": {},
     "output_type": "display_data"
    }
   ],
   "source": [
    "display(app)"
   ]
  },
  {
   "cell_type": "code",
   "execution_count": 8,
   "id": "2eb074eb",
   "metadata": {},
   "outputs": [
    {
     "name": "stdout",
     "output_type": "stream",
     "text": [
      "Eq(1.0*sqrt(z**2), 0)\n"
     ]
    }
   ],
   "source": []
  },
  {
   "cell_type": "code",
   "execution_count": 9,
   "id": "0d0eba6c",
   "metadata": {},
   "outputs": [
    {
     "name": "stdout",
     "output_type": "stream",
     "text": [
      "Function\n"
     ]
    },
    {
     "ename": "ValueError",
     "evalue": "subs accepts either 1 or 2 arguments",
     "output_type": "error",
     "traceback": [
      "\u001b[1;31m---------------------------------------------------------------------------\u001b[0m",
      "\u001b[1;31mValueError\u001b[0m                                Traceback (most recent call last)",
      "\u001b[1;32m~\\AppData\\Local\\Temp/ipykernel_13940/4127356316.py\u001b[0m in \u001b[0;36m<module>\u001b[1;34m\u001b[0m\n\u001b[0;32m      1\u001b[0m \u001b[0mprint\u001b[0m\u001b[1;33m(\u001b[0m\u001b[0minters\u001b[0m\u001b[1;33m)\u001b[0m\u001b[1;33m\u001b[0m\u001b[1;33m\u001b[0m\u001b[0m\n\u001b[1;32m----> 2\u001b[1;33m \u001b[0mz_i\u001b[0m \u001b[1;33m=\u001b[0m \u001b[0mcyl_calc\u001b[0m\u001b[1;33m.\u001b[0m\u001b[0msolve_incident_intersection\u001b[0m\u001b[1;33m(\u001b[0m\u001b[0minters\u001b[0m\u001b[1;33m,\u001b[0m \u001b[1;36m0\u001b[0m\u001b[1;33m,\u001b[0m \u001b[1;36m0\u001b[0m\u001b[1;33m)\u001b[0m\u001b[1;33m\u001b[0m\u001b[1;33m\u001b[0m\u001b[0m\n\u001b[0m",
      "\u001b[1;32mC:\\users\\dam-be\\Documents\\GitHub\\Solar-Collector-App\\cylindricalCollector.py\u001b[0m in \u001b[0;36msolve_incident_intersection\u001b[1;34m(self, func, theta_val, phi_val)\u001b[0m\n\u001b[0;32m    171\u001b[0m         \"\"\"\n\u001b[0;32m    172\u001b[0m         \u001b[0mz\u001b[0m\u001b[1;33m,\u001b[0m \u001b[0mtheta\u001b[0m\u001b[1;33m,\u001b[0m \u001b[0mphi\u001b[0m \u001b[1;33m=\u001b[0m \u001b[0mspy\u001b[0m\u001b[1;33m.\u001b[0m\u001b[0msymbols\u001b[0m\u001b[1;33m(\u001b[0m\u001b[1;34m'z theta phi'\u001b[0m\u001b[1;33m)\u001b[0m\u001b[1;33m\u001b[0m\u001b[1;33m\u001b[0m\u001b[0m\n\u001b[1;32m--> 173\u001b[1;33m         \u001b[0mequ_eval\u001b[0m \u001b[1;33m=\u001b[0m \u001b[0mspy\u001b[0m\u001b[1;33m.\u001b[0m\u001b[0mEq\u001b[0m\u001b[1;33m(\u001b[0m\u001b[0mfunc\u001b[0m\u001b[1;33m.\u001b[0m\u001b[0msubs\u001b[0m\u001b[1;33m(\u001b[0m\u001b[1;33m{\u001b[0m\u001b[0mtheta\u001b[0m\u001b[1;33m:\u001b[0m \u001b[0mtheta_val\u001b[0m\u001b[1;33m,\u001b[0m \u001b[0mphi\u001b[0m\u001b[1;33m:\u001b[0m \u001b[0mphi_val\u001b[0m\u001b[1;33m}\u001b[0m\u001b[1;33m)\u001b[0m\u001b[1;33m,\u001b[0m\u001b[1;36m0\u001b[0m\u001b[1;33m)\u001b[0m\u001b[1;33m\u001b[0m\u001b[1;33m\u001b[0m\u001b[0m\n\u001b[0m\u001b[0;32m    174\u001b[0m         \u001b[0mans\u001b[0m \u001b[1;33m=\u001b[0m \u001b[0mspy\u001b[0m\u001b[1;33m.\u001b[0m\u001b[0msolve\u001b[0m\u001b[1;33m(\u001b[0m\u001b[0mequ_eval\u001b[0m\u001b[1;33m,\u001b[0m \u001b[0mz\u001b[0m\u001b[1;33m)\u001b[0m\u001b[1;33m\u001b[0m\u001b[1;33m\u001b[0m\u001b[0m\n\u001b[0;32m    175\u001b[0m \u001b[1;33m\u001b[0m\u001b[0m\n",
      "\u001b[1;32mC:\\Users\\dam-be\\Anaconda3\\envs\\jupyEnv\\lib\\site-packages\\sympy\\core\\basic.py\u001b[0m in \u001b[0;36msubs\u001b[1;34m(self, *args, **kwargs)\u001b[0m\n\u001b[0;32m    927\u001b[0m             \u001b[0msequence\u001b[0m \u001b[1;33m=\u001b[0m \u001b[1;33m[\u001b[0m\u001b[0margs\u001b[0m\u001b[1;33m]\u001b[0m\u001b[1;33m\u001b[0m\u001b[1;33m\u001b[0m\u001b[0m\n\u001b[0;32m    928\u001b[0m         \u001b[1;32melse\u001b[0m\u001b[1;33m:\u001b[0m\u001b[1;33m\u001b[0m\u001b[1;33m\u001b[0m\u001b[0m\n\u001b[1;32m--> 929\u001b[1;33m             \u001b[1;32mraise\u001b[0m \u001b[0mValueError\u001b[0m\u001b[1;33m(\u001b[0m\u001b[1;34m\"subs accepts either 1 or 2 arguments\"\u001b[0m\u001b[1;33m)\u001b[0m\u001b[1;33m\u001b[0m\u001b[1;33m\u001b[0m\u001b[0m\n\u001b[0m\u001b[0;32m    930\u001b[0m \u001b[1;33m\u001b[0m\u001b[0m\n\u001b[0;32m    931\u001b[0m         \u001b[0msequence\u001b[0m \u001b[1;33m=\u001b[0m \u001b[0mlist\u001b[0m\u001b[1;33m(\u001b[0m\u001b[0msequence\u001b[0m\u001b[1;33m)\u001b[0m\u001b[1;33m\u001b[0m\u001b[1;33m\u001b[0m\u001b[0m\n",
      "\u001b[1;31mValueError\u001b[0m: subs accepts either 1 or 2 arguments"
     ]
    }
   ],
   "source": []
  },
  {
   "cell_type": "code",
   "execution_count": null,
   "id": "bc82451e",
   "metadata": {},
   "outputs": [],
   "source": []
  },
  {
   "cell_type": "code",
   "execution_count": null,
   "id": "8ae398d9",
   "metadata": {},
   "outputs": [],
   "source": []
  }
 ],
 "metadata": {
  "interpreter": {
   "hash": "686889071841a2d96f5afacdcbbcc351fa448ceca54b1a0830e1814f537d6c18"
  },
  "kernelspec": {
   "display_name": "Python [conda env:jupyEnv] *",
   "language": "python",
   "name": "conda-env-jupyEnv-py"
  },
  "language_info": {
   "codemirror_mode": {
    "name": "ipython",
    "version": 3
   },
   "file_extension": ".py",
   "mimetype": "text/x-python",
   "name": "python",
   "nbconvert_exporter": "python",
   "pygments_lexer": "ipython3",
   "version": "3.7.11"
  }
 },
 "nbformat": 4,
 "nbformat_minor": 5
}
